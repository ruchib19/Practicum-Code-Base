{
 "cells": [
  {
   "cell_type": "code",
   "execution_count": 18,
   "metadata": {},
   "outputs": [],
   "source": [
    "import requests\n",
    "import pandas as pd"
   ]
  },
  {
   "cell_type": "code",
   "execution_count": 4,
   "metadata": {},
   "outputs": [],
   "source": [
    "data = requests.get(\"https://newsapi.org/v2/everything?apiKey=69daccc4fd664a7fb1944c5a17b8c29a&q=Business%20Analytics\").json()"
   ]
  },
  {
   "cell_type": "code",
   "execution_count": 12,
   "metadata": {},
   "outputs": [],
   "source": [
    "articles = data[\"articles\"]"
   ]
  },
  {
   "cell_type": "code",
   "execution_count": 15,
   "metadata": {},
   "outputs": [
    {
     "data": {
      "text/plain": [
       "20"
      ]
     },
     "execution_count": 15,
     "metadata": {},
     "output_type": "execute_result"
    }
   ],
   "source": [
    "len(articles)"
   ]
  },
  {
   "cell_type": "code",
   "execution_count": 21,
   "metadata": {},
   "outputs": [
    {
     "data": {
      "text/html": [
       "<div>\n",
       "<style scoped>\n",
       "    .dataframe tbody tr th:only-of-type {\n",
       "        vertical-align: middle;\n",
       "    }\n",
       "\n",
       "    .dataframe tbody tr th {\n",
       "        vertical-align: top;\n",
       "    }\n",
       "\n",
       "    .dataframe thead th {\n",
       "        text-align: right;\n",
       "    }\n",
       "</style>\n",
       "<table border=\"1\" class=\"dataframe\">\n",
       "  <thead>\n",
       "    <tr style=\"text-align: right;\">\n",
       "      <th></th>\n",
       "      <th>source-id</th>\n",
       "      <th>source-name</th>\n",
       "      <th>author</th>\n",
       "      <th>title</th>\n",
       "      <th>description</th>\n",
       "      <th>content</th>\n",
       "    </tr>\n",
       "  </thead>\n",
       "  <tbody>\n",
       "    <tr>\n",
       "      <th>0</th>\n",
       "      <td>techcrunch</td>\n",
       "      <td>TechCrunch</td>\n",
       "      <td>Ingrid Lunden</td>\n",
       "      <td>New Relic acquires Belgium’s CoScale to expand...</td>\n",
       "      <td>New Relic, a provider of analytics and monitor...</td>\n",
       "      <td>New Relic, a provider of analytics and monitor...</td>\n",
       "    </tr>\n",
       "    <tr>\n",
       "      <th>1</th>\n",
       "      <td>techcrunch</td>\n",
       "      <td>TechCrunch</td>\n",
       "      <td>Frederic Lardinois</td>\n",
       "      <td>Nvidia launches Rapids to help bring GPU accel...</td>\n",
       "      <td>Nvidia, together with partners like IBM, HPE, ...</td>\n",
       "      <td>Nvidia, together with partners like IBM, HPE, ...</td>\n",
       "    </tr>\n",
       "    <tr>\n",
       "      <th>2</th>\n",
       "      <td>techcrunch</td>\n",
       "      <td>TechCrunch</td>\n",
       "      <td>Rita Liao</td>\n",
       "      <td>China’s Didi Chuxing is poised to expand into ...</td>\n",
       "      <td>China’s largest ride-hailing app Didi Chuxing ...</td>\n",
       "      <td>China’s largest ride-hailing app Didi Chuxing ...</td>\n",
       "    </tr>\n",
       "    <tr>\n",
       "      <th>3</th>\n",
       "      <td>techcrunch</td>\n",
       "      <td>TechCrunch</td>\n",
       "      <td>Sarah Perez</td>\n",
       "      <td>Amazon Business Prime adds same-day and 1-day ...</td>\n",
       "      <td>Amazon’s version of Prime aimed at business us...</td>\n",
       "      <td>Amazon’s version of Prime aimed at business us...</td>\n",
       "    </tr>\n",
       "    <tr>\n",
       "      <th>4</th>\n",
       "      <td>None</td>\n",
       "      <td>Androidcentral.com</td>\n",
       "      <td>Android Central</td>\n",
       "      <td>Grab the Ultimate Data and Analytics bundle fo...</td>\n",
       "      <td>Data can be super powerful, but only if you kn...</td>\n",
       "      <td>Data can be super powerful, but only if you kn...</td>\n",
       "    </tr>\n",
       "  </tbody>\n",
       "</table>\n",
       "</div>"
      ],
      "text/plain": [
       "    source-id         source-name              author  \\\n",
       "0  techcrunch          TechCrunch       Ingrid Lunden   \n",
       "1  techcrunch          TechCrunch  Frederic Lardinois   \n",
       "2  techcrunch          TechCrunch           Rita Liao   \n",
       "3  techcrunch          TechCrunch         Sarah Perez   \n",
       "4        None  Androidcentral.com     Android Central   \n",
       "\n",
       "                                               title  \\\n",
       "0  New Relic acquires Belgium’s CoScale to expand...   \n",
       "1  Nvidia launches Rapids to help bring GPU accel...   \n",
       "2  China’s Didi Chuxing is poised to expand into ...   \n",
       "3  Amazon Business Prime adds same-day and 1-day ...   \n",
       "4  Grab the Ultimate Data and Analytics bundle fo...   \n",
       "\n",
       "                                         description  \\\n",
       "0  New Relic, a provider of analytics and monitor...   \n",
       "1  Nvidia, together with partners like IBM, HPE, ...   \n",
       "2  China’s largest ride-hailing app Didi Chuxing ...   \n",
       "3  Amazon’s version of Prime aimed at business us...   \n",
       "4  Data can be super powerful, but only if you kn...   \n",
       "\n",
       "                                             content  \n",
       "0  New Relic, a provider of analytics and monitor...  \n",
       "1  Nvidia, together with partners like IBM, HPE, ...  \n",
       "2  China’s largest ride-hailing app Didi Chuxing ...  \n",
       "3  Amazon’s version of Prime aimed at business us...  \n",
       "4  Data can be super powerful, but only if you kn...  "
      ]
     },
     "execution_count": 21,
     "metadata": {},
     "output_type": "execute_result"
    }
   ],
   "source": [
    "#source-id , source-name, author, title, description, content\n",
    "df = pd.DataFrame(columns = [\"source-id\" , \"source-name\", \"author\", \"title\", \"description\", \"content\"])\n",
    "count = 0\n",
    "for article in articles:\n",
    "    arr = []\n",
    "    arr.append(article[\"source\"][\"id\"])\n",
    "    arr.append(article[\"source\"][\"name\"])\n",
    "    arr.append(article[\"author\"])\n",
    "    arr.append(article[\"title\"])\n",
    "    arr.append(article[\"description\"])\n",
    "    arr.append(article[\"content\"])\n",
    "    df.loc[count] = arr\n",
    "    count += 1\n",
    "    \n",
    "df.head()"
   ]
  },
  {
   "cell_type": "code",
   "execution_count": 22,
   "metadata": {},
   "outputs": [],
   "source": [
    "df.to_csv(\"output_api.csv\")"
   ]
  }
 ],
 "metadata": {
  "kernelspec": {
   "display_name": "Python 3",
   "language": "python",
   "name": "python3"
  },
  "language_info": {
   "codemirror_mode": {
    "name": "ipython",
    "version": 3
   },
   "file_extension": ".py",
   "mimetype": "text/x-python",
   "name": "python",
   "nbconvert_exporter": "python",
   "pygments_lexer": "ipython3",
   "version": "3.7.1"
  }
 },
 "nbformat": 4,
 "nbformat_minor": 2
}
